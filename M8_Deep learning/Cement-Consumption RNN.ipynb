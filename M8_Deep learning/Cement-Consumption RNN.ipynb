{
 "cells": [
  {
   "cell_type": "markdown",
   "id": "3e3b09b5",
   "metadata": {},
   "source": [
    "## Build a time series forecast model using LSTM. Use the number of periods for forecast batch as per your wish. The number of data in train and test can also be according to your wish\n",
    "\n",
    "### Long Short Term Memory - RNN"
   ]
  },
  {
   "cell_type": "code",
   "execution_count": 1,
   "id": "3fa6d967",
   "metadata": {},
   "outputs": [
    {
     "data": {
      "text/html": [
       "<div>\n",
       "<style scoped>\n",
       "    .dataframe tbody tr th:only-of-type {\n",
       "        vertical-align: middle;\n",
       "    }\n",
       "\n",
       "    .dataframe tbody tr th {\n",
       "        vertical-align: top;\n",
       "    }\n",
       "\n",
       "    .dataframe thead th {\n",
       "        text-align: right;\n",
       "    }\n",
       "</style>\n",
       "<table border=\"1\" class=\"dataframe\">\n",
       "  <thead>\n",
       "    <tr style=\"text-align: right;\">\n",
       "      <th></th>\n",
       "      <th>Period</th>\n",
       "      <th>Month</th>\n",
       "      <th>Cement Consumption</th>\n",
       "    </tr>\n",
       "  </thead>\n",
       "  <tbody>\n",
       "    <tr>\n",
       "      <th>0</th>\n",
       "      <td>1</td>\n",
       "      <td>2001-04-01</td>\n",
       "      <td>333224</td>\n",
       "    </tr>\n",
       "    <tr>\n",
       "      <th>1</th>\n",
       "      <td>2</td>\n",
       "      <td>2001-05-01</td>\n",
       "      <td>399256</td>\n",
       "    </tr>\n",
       "    <tr>\n",
       "      <th>2</th>\n",
       "      <td>3</td>\n",
       "      <td>2001-06-01</td>\n",
       "      <td>626754</td>\n",
       "    </tr>\n",
       "    <tr>\n",
       "      <th>3</th>\n",
       "      <td>4</td>\n",
       "      <td>2001-07-01</td>\n",
       "      <td>366388</td>\n",
       "    </tr>\n",
       "    <tr>\n",
       "      <th>4</th>\n",
       "      <td>5</td>\n",
       "      <td>2001-08-01</td>\n",
       "      <td>361452</td>\n",
       "    </tr>\n",
       "  </tbody>\n",
       "</table>\n",
       "</div>"
      ],
      "text/plain": [
       "   Period      Month  Cement Consumption\n",
       "0       1 2001-04-01              333224\n",
       "1       2 2001-05-01              399256\n",
       "2       3 2001-06-01              626754\n",
       "3       4 2001-07-01              366388\n",
       "4       5 2001-08-01              361452"
      ]
     },
     "execution_count": 1,
     "metadata": {},
     "output_type": "execute_result"
    }
   ],
   "source": [
    "# import libraries\n",
    "\n",
    "import pandas as pd\n",
    "import numpy as np\n",
    "import matplotlib.pyplot as plt\n",
    "\n",
    "\n",
    "# import data\n",
    "\n",
    "data = pd.read_excel('F:\\Skillenable\\Data frames\\Cement-Consumption.xlsx')\n",
    "data.head()"
   ]
  },
  {
   "cell_type": "code",
   "execution_count": 2,
   "id": "8f779715",
   "metadata": {},
   "outputs": [],
   "source": [
    "df_cement = data.drop(columns=['Period'])"
   ]
  },
  {
   "cell_type": "code",
   "execution_count": 3,
   "id": "975d10a3",
   "metadata": {},
   "outputs": [
    {
     "data": {
      "text/html": [
       "<div>\n",
       "<style scoped>\n",
       "    .dataframe tbody tr th:only-of-type {\n",
       "        vertical-align: middle;\n",
       "    }\n",
       "\n",
       "    .dataframe tbody tr th {\n",
       "        vertical-align: top;\n",
       "    }\n",
       "\n",
       "    .dataframe thead th {\n",
       "        text-align: right;\n",
       "    }\n",
       "</style>\n",
       "<table border=\"1\" class=\"dataframe\">\n",
       "  <thead>\n",
       "    <tr style=\"text-align: right;\">\n",
       "      <th></th>\n",
       "      <th>Month</th>\n",
       "      <th>Cement Consumption</th>\n",
       "    </tr>\n",
       "  </thead>\n",
       "  <tbody>\n",
       "    <tr>\n",
       "      <th>0</th>\n",
       "      <td>2001-04-01</td>\n",
       "      <td>333224</td>\n",
       "    </tr>\n",
       "    <tr>\n",
       "      <th>1</th>\n",
       "      <td>2001-05-01</td>\n",
       "      <td>399256</td>\n",
       "    </tr>\n",
       "    <tr>\n",
       "      <th>2</th>\n",
       "      <td>2001-06-01</td>\n",
       "      <td>626754</td>\n",
       "    </tr>\n",
       "    <tr>\n",
       "      <th>3</th>\n",
       "      <td>2001-07-01</td>\n",
       "      <td>366388</td>\n",
       "    </tr>\n",
       "    <tr>\n",
       "      <th>4</th>\n",
       "      <td>2001-08-01</td>\n",
       "      <td>361452</td>\n",
       "    </tr>\n",
       "  </tbody>\n",
       "</table>\n",
       "</div>"
      ],
      "text/plain": [
       "       Month  Cement Consumption\n",
       "0 2001-04-01              333224\n",
       "1 2001-05-01              399256\n",
       "2 2001-06-01              626754\n",
       "3 2001-07-01              366388\n",
       "4 2001-08-01              361452"
      ]
     },
     "execution_count": 3,
     "metadata": {},
     "output_type": "execute_result"
    }
   ],
   "source": [
    "df_cement.head()"
   ]
  },
  {
   "cell_type": "code",
   "execution_count": 4,
   "id": "7bedd967",
   "metadata": {},
   "outputs": [
    {
     "name": "stdout",
     "output_type": "stream",
     "text": [
      "<class 'pandas.core.frame.DataFrame'>\n",
      "RangeIndex: 116 entries, 0 to 115\n",
      "Data columns (total 2 columns):\n",
      " #   Column              Non-Null Count  Dtype         \n",
      "---  ------              --------------  -----         \n",
      " 0   Month               116 non-null    datetime64[ns]\n",
      " 1   Cement Consumption  116 non-null    int64         \n",
      "dtypes: datetime64[ns](1), int64(1)\n",
      "memory usage: 1.9 KB\n"
     ]
    }
   ],
   "source": [
    "df_cement.info()"
   ]
  },
  {
   "cell_type": "code",
   "execution_count": 5,
   "id": "1de23059",
   "metadata": {},
   "outputs": [
    {
     "data": {
      "text/html": [
       "<div>\n",
       "<style scoped>\n",
       "    .dataframe tbody tr th:only-of-type {\n",
       "        vertical-align: middle;\n",
       "    }\n",
       "\n",
       "    .dataframe tbody tr th {\n",
       "        vertical-align: top;\n",
       "    }\n",
       "\n",
       "    .dataframe thead th {\n",
       "        text-align: right;\n",
       "    }\n",
       "</style>\n",
       "<table border=\"1\" class=\"dataframe\">\n",
       "  <thead>\n",
       "    <tr style=\"text-align: right;\">\n",
       "      <th></th>\n",
       "      <th>Cement Consumption</th>\n",
       "    </tr>\n",
       "    <tr>\n",
       "      <th>Month</th>\n",
       "      <th></th>\n",
       "    </tr>\n",
       "  </thead>\n",
       "  <tbody>\n",
       "    <tr>\n",
       "      <th>2001-04-01</th>\n",
       "      <td>333224</td>\n",
       "    </tr>\n",
       "    <tr>\n",
       "      <th>2001-05-01</th>\n",
       "      <td>399256</td>\n",
       "    </tr>\n",
       "    <tr>\n",
       "      <th>2001-06-01</th>\n",
       "      <td>626754</td>\n",
       "    </tr>\n",
       "    <tr>\n",
       "      <th>2001-07-01</th>\n",
       "      <td>366388</td>\n",
       "    </tr>\n",
       "    <tr>\n",
       "      <th>2001-08-01</th>\n",
       "      <td>361452</td>\n",
       "    </tr>\n",
       "  </tbody>\n",
       "</table>\n",
       "</div>"
      ],
      "text/plain": [
       "            Cement Consumption\n",
       "Month                         \n",
       "2001-04-01              333224\n",
       "2001-05-01              399256\n",
       "2001-06-01              626754\n",
       "2001-07-01              366388\n",
       "2001-08-01              361452"
      ]
     },
     "execution_count": 5,
     "metadata": {},
     "output_type": "execute_result"
    }
   ],
   "source": [
    "# indexing \n",
    "df_cement.set_index('Month', inplace = True)\n",
    "df_cement.head()"
   ]
  },
  {
   "cell_type": "code",
   "execution_count": 9,
   "id": "68e09b77",
   "metadata": {},
   "outputs": [
    {
     "data": {
      "text/plain": [
       "<AxesSubplot:>"
      ]
     },
     "execution_count": 9,
     "metadata": {},
     "output_type": "execute_result"
    },
    {
     "data": {
      "image/png": "[encoded data removed]",
      "text/plain": [
       "<Figure size 720x432 with 1 Axes>"
      ]
     },
     "metadata": {
      "needs_background": "light"
     },
     "output_type": "display_data"
    }
   ],
   "source": [
    "data.plot(figsize= (10,6))   # plotting the data"
   ]
  },
  {
   "cell_type": "code",
   "execution_count": 10,
   "id": "a3c55019",
   "metadata": {},
   "outputs": [
    {
     "data": {
      "text/plain": [
       "96"
      ]
     },
     "execution_count": 10,
     "metadata": {},
     "output_type": "execute_result"
    }
   ],
   "source": [
    " # taking last 20 data as test data\n",
    "len(df_cement)-20"
   ]
  },
  {
   "cell_type": "code",
   "execution_count": 11,
   "id": "fff572ef",
   "metadata": {},
   "outputs": [
    {
     "data": {
      "text/plain": [
       "(96, 20)"
      ]
     },
     "execution_count": 11,
     "metadata": {},
     "output_type": "execute_result"
    }
   ],
   "source": [
    "# saperate the data as train and test\n",
    "\n",
    "train = df_cement.iloc[:96]\n",
    "test = df_cement.iloc[96:]\n",
    "\n",
    "len(train), len(test)"
   ]
  },
  {
   "cell_type": "code",
   "execution_count": 12,
   "id": "3cba7825",
   "metadata": {},
   "outputs": [],
   "source": [
    "# Normalizing the data\n",
    "from sklearn.preprocessing import MinMaxScaler"
   ]
  },
  {
   "cell_type": "code",
   "execution_count": 13,
   "id": "bf62efef",
   "metadata": {},
   "outputs": [],
   "source": [
    "scaler = MinMaxScaler()  # assigning the object"
   ]
  },
  {
   "cell_type": "code",
   "execution_count": 14,
   "id": "6291ecf2",
   "metadata": {},
   "outputs": [],
   "source": [
    "train_scale = scaler.fit_transform(train) # scaled the data\n",
    "test_scale = scaler.fit_transform(test)"
   ]
  },
  {
   "cell_type": "code",
   "execution_count": 15,
   "id": "4ae3e31e",
   "metadata": {},
   "outputs": [
    {
     "data": {
      "text/plain": [
       "array([[0.78219776],\n",
       "       [0.61997942],\n",
       "       [1.        ],\n",
       "       [0.68286731],\n",
       "       [0.47315947],\n",
       "       [0.59317026],\n",
       "       [0.26124559],\n",
       "       [0.26139614],\n",
       "       [0.58185149],\n",
       "       [0.65398593],\n",
       "       [0.2644386 ],\n",
       "       [0.50051439],\n",
       "       [0.46597049],\n",
       "       [0.49891475],\n",
       "       [0.56301126],\n",
       "       [0.28382459],\n",
       "       [0.18183643],\n",
       "       [0.22048085],\n",
       "       [0.58717944],\n",
       "       [0.        ]])"
      ]
     },
     "execution_count": 15,
     "metadata": {},
     "output_type": "execute_result"
    }
   ],
   "source": [
    "test_scale"
   ]
  },
  {
   "cell_type": "code",
   "execution_count": 16,
   "id": "49abb73f",
   "metadata": {},
   "outputs": [],
   "source": [
    "from keras.preprocessing.sequence import TimeseriesGenerator\n"
   ]
  },
  {
   "cell_type": "code",
   "execution_count": 17,
   "id": "7b349c14",
   "metadata": {},
   "outputs": [],
   "source": [
    "# We will take 15 values to predict the time series data \n",
    "\n",
    "n_input =15\n",
    "generator = TimeseriesGenerator(train_scale, train_scale, length = n_input, batch_size = 1)"
   ]
  },
  {
   "cell_type": "code",
   "execution_count": 18,
   "id": "7f9aabcc",
   "metadata": {},
   "outputs": [
    {
     "data": {
      "text/plain": [
       "array([[0.        ],\n",
       "       [0.08803023],\n",
       "       [0.39131803],\n",
       "       [0.04421242],\n",
       "       [0.03763201],\n",
       "       [0.07207648],\n",
       "       [0.06186326],\n",
       "       [0.1007071 ],\n",
       "       [0.12606218],\n",
       "       [0.16722437],\n",
       "       [0.10848067],\n",
       "       [0.41991132],\n",
       "       [0.15038541],\n",
       "       [0.16596588],\n",
       "       [0.27841798]])"
      ]
     },
     "execution_count": 18,
     "metadata": {},
     "output_type": "execute_result"
    }
   ],
   "source": [
    "train_scale[:15]"
   ]
  },
  {
   "cell_type": "code",
   "execution_count": 19,
   "id": "5fb282c0",
   "metadata": {},
   "outputs": [
    {
     "data": {
      "text/plain": [
       "(array([[[0.        ],\n",
       "         [0.08803023],\n",
       "         [0.39131803],\n",
       "         [0.04421242],\n",
       "         [0.03763201],\n",
       "         [0.07207648],\n",
       "         [0.06186326],\n",
       "         [0.1007071 ],\n",
       "         [0.12606218],\n",
       "         [0.16722437],\n",
       "         [0.10848067],\n",
       "         [0.41991132],\n",
       "         [0.15038541],\n",
       "         [0.16596588],\n",
       "         [0.27841798]]]),\n",
       " array([[0.27348535]]))"
      ]
     },
     "execution_count": 19,
     "metadata": {},
     "output_type": "execute_result"
    }
   ],
   "source": [
    "generator[0]   # #IT'S OUR FIRST GENERATOR OF FIRST INDEX; give first 12 data"
   ]
  },
  {
   "cell_type": "code",
   "execution_count": 20,
   "id": "c448f711",
   "metadata": {},
   "outputs": [],
   "source": [
    "from keras.models import Sequential\n",
    "from keras.layers import Dense\n",
    "from keras.layers import LSTM"
   ]
  },
  {
   "cell_type": "code",
   "execution_count": 21,
   "id": "b9dd43fa",
   "metadata": {},
   "outputs": [],
   "source": [
    "## Initializing the RNN\n",
    "\n",
    "# Defining the model\n",
    "\n",
    "rnn = Sequential()"
   ]
  },
  {
   "cell_type": "code",
   "execution_count": 22,
   "id": "861caaba",
   "metadata": {},
   "outputs": [],
   "source": [
    "# Adding input & hidden layers\n",
    "rnn.add(LSTM(units=100, activation = 'relu', input_shape= (n_input, 1)))"
   ]
  },
  {
   "cell_type": "code",
   "execution_count": 23,
   "id": "b830194d",
   "metadata": {},
   "outputs": [],
   "source": [
    "# output layer\n",
    "rnn.add(Dense(units=1)) ## output = 1"
   ]
  },
  {
   "cell_type": "code",
   "execution_count": 24,
   "id": "07d74fa3",
   "metadata": {},
   "outputs": [],
   "source": [
    "# Compiling the model\n",
    "rnn.compile(optimizer= 'adam', loss='mse')"
   ]
  },
  {
   "cell_type": "code",
   "execution_count": 26,
   "id": "468d94d5",
   "metadata": {},
   "outputs": [
    {
     "name": "stdout",
     "output_type": "stream",
     "text": [
      "Epoch 1/75\n",
      "81/81 [==============================] - 1s 4ms/step - loss: 0.0483\n",
      "Epoch 2/75\n",
      "81/81 [==============================] - 0s 4ms/step - loss: 0.0125\n",
      "Epoch 3/75\n",
      "81/81 [==============================] - 0s 4ms/step - loss: 0.0105\n",
      "Epoch 4/75\n",
      "81/81 [==============================] - 0s 5ms/step - loss: 0.0135\n",
      "Epoch 5/75\n",
      "81/81 [==============================] - 0s 4ms/step - loss: 0.0123\n",
      "Epoch 6/75\n",
      "81/81 [==============================] - 0s 5ms/step - loss: 0.0131\n",
      "Epoch 7/75\n",
      "81/81 [==============================] - 0s 4ms/step - loss: 0.0138\n",
      "Epoch 8/75\n",
      "81/81 [==============================] - 0s 4ms/step - loss: 0.0138\n",
      "Epoch 9/75\n",
      "81/81 [==============================] - 0s 4ms/step - loss: 0.0101\n",
      "Epoch 10/75\n",
      "81/81 [==============================] - 0s 4ms/step - loss: 0.0114\n",
      "Epoch 11/75\n",
      "81/81 [==============================] - 0s 4ms/step - loss: 0.0135\n",
      "Epoch 12/75\n",
      "81/81 [==============================] - 0s 4ms/step - loss: 0.0109\n",
      "Epoch 13/75\n",
      "81/81 [==============================] - 0s 4ms/step - loss: 0.0105\n",
      "Epoch 14/75\n",
      "81/81 [==============================] - 0s 4ms/step - loss: 0.0124\n",
      "Epoch 15/75\n",
      "81/81 [==============================] - 0s 4ms/step - loss: 0.0118\n",
      "Epoch 16/75\n",
      "81/81 [==============================] - 0s 4ms/step - loss: 0.0115\n",
      "Epoch 17/75\n",
      "81/81 [==============================] - 0s 4ms/step - loss: 0.0119\n",
      "Epoch 18/75\n",
      "81/81 [==============================] - 0s 4ms/step - loss: 0.0114\n",
      "Epoch 19/75\n",
      "81/81 [==============================] - 0s 4ms/step - loss: 0.0104\n",
      "Epoch 20/75\n",
      "81/81 [==============================] - 0s 4ms/step - loss: 0.0127\n",
      "Epoch 21/75\n",
      "81/81 [==============================] - 0s 5ms/step - loss: 0.0117\n",
      "Epoch 22/75\n",
      "81/81 [==============================] - 0s 4ms/step - loss: 0.0105\n",
      "Epoch 23/75\n",
      "81/81 [==============================] - 0s 4ms/step - loss: 0.0107\n",
      "Epoch 24/75\n",
      "81/81 [==============================] - 0s 4ms/step - loss: 0.0114\n",
      "Epoch 25/75\n",
      "81/81 [==============================] - 0s 4ms/step - loss: 0.0112\n",
      "Epoch 26/75\n",
      "81/81 [==============================] - 0s 4ms/step - loss: 0.0102\n",
      "Epoch 27/75\n",
      "81/81 [==============================] - 0s 4ms/step - loss: 0.0108\n",
      "Epoch 28/75\n",
      "81/81 [==============================] - 0s 4ms/step - loss: 0.0101\n",
      "Epoch 29/75\n",
      "81/81 [==============================] - 0s 4ms/step - loss: 0.0112\n",
      "Epoch 30/75\n",
      "81/81 [==============================] - 0s 4ms/step - loss: 0.0102\n",
      "Epoch 31/75\n",
      "81/81 [==============================] - 0s 4ms/step - loss: 0.0110\n",
      "Epoch 32/75\n",
      "81/81 [==============================] - 0s 4ms/step - loss: 0.0097\n",
      "Epoch 33/75\n",
      "81/81 [==============================] - 0s 4ms/step - loss: 0.0114\n",
      "Epoch 34/75\n",
      "81/81 [==============================] - 0s 4ms/step - loss: 0.0101\n",
      "Epoch 35/75\n",
      "81/81 [==============================] - 0s 4ms/step - loss: 0.0095\n",
      "Epoch 36/75\n",
      "81/81 [==============================] - 0s 4ms/step - loss: 0.0148\n",
      "Epoch 37/75\n",
      "81/81 [==============================] - 0s 4ms/step - loss: 0.0097\n",
      "Epoch 38/75\n",
      "81/81 [==============================] - 0s 4ms/step - loss: 0.0114\n",
      "Epoch 39/75\n",
      "81/81 [==============================] - 0s 4ms/step - loss: 0.0117\n",
      "Epoch 40/75\n",
      "81/81 [==============================] - 0s 4ms/step - loss: 0.0106\n",
      "Epoch 41/75\n",
      "81/81 [==============================] - 0s 4ms/step - loss: 0.0105\n",
      "Epoch 42/75\n",
      "81/81 [==============================] - 0s 4ms/step - loss: 0.0109\n",
      "Epoch 43/75\n",
      "81/81 [==============================] - 0s 4ms/step - loss: 0.0104\n",
      "Epoch 44/75\n",
      "81/81 [==============================] - 0s 4ms/step - loss: 0.0125\n",
      "Epoch 45/75\n",
      "81/81 [==============================] - 0s 4ms/step - loss: 0.0112\n",
      "Epoch 46/75\n",
      "81/81 [==============================] - 0s 4ms/step - loss: 0.0105\n",
      "Epoch 47/75\n",
      "81/81 [==============================] - 0s 4ms/step - loss: 0.0109\n",
      "Epoch 48/75\n",
      "81/81 [==============================] - 0s 4ms/step - loss: 0.0097\n",
      "Epoch 49/75\n",
      "81/81 [==============================] - 0s 4ms/step - loss: 0.0104\n",
      "Epoch 50/75\n",
      "81/81 [==============================] - 0s 4ms/step - loss: 0.0099\n",
      "Epoch 51/75\n",
      "81/81 [==============================] - 0s 4ms/step - loss: 0.0097\n",
      "Epoch 52/75\n",
      "81/81 [==============================] - 0s 4ms/step - loss: 0.0122\n",
      "Epoch 53/75\n",
      "81/81 [==============================] - 0s 4ms/step - loss: 0.0105\n",
      "Epoch 54/75\n",
      "81/81 [==============================] - 0s 4ms/step - loss: 0.0106\n",
      "Epoch 55/75\n",
      "81/81 [==============================] - 0s 4ms/step - loss: 0.0133\n",
      "Epoch 56/75\n",
      "81/81 [==============================] - 0s 4ms/step - loss: 0.0099\n",
      "Epoch 57/75\n",
      "81/81 [==============================] - 0s 4ms/step - loss: 0.0121\n",
      "Epoch 58/75\n",
      "81/81 [==============================] - 0s 4ms/step - loss: 0.0112\n",
      "Epoch 59/75\n",
      "81/81 [==============================] - 0s 4ms/step - loss: 0.0112\n",
      "Epoch 60/75\n",
      "81/81 [==============================] - 0s 4ms/step - loss: 0.0099\n",
      "Epoch 61/75\n",
      "81/81 [==============================] - 0s 4ms/step - loss: 0.0103\n",
      "Epoch 62/75\n",
      "81/81 [==============================] - 0s 4ms/step - loss: 0.0106\n",
      "Epoch 63/75\n",
      "81/81 [==============================] - 0s 4ms/step - loss: 0.0096\n",
      "Epoch 64/75\n",
      "81/81 [==============================] - 0s 4ms/step - loss: 0.0098\n",
      "Epoch 65/75\n",
      "81/81 [==============================] - 0s 4ms/step - loss: 0.0098\n",
      "Epoch 66/75\n",
      "81/81 [==============================] - 0s 4ms/step - loss: 0.0109\n",
      "Epoch 67/75\n",
      "81/81 [==============================] - 0s 4ms/step - loss: 0.0108\n",
      "Epoch 68/75\n",
      "81/81 [==============================] - 0s 4ms/step - loss: 0.0088\n",
      "Epoch 69/75\n",
      "81/81 [==============================] - 0s 4ms/step - loss: 0.0094\n",
      "Epoch 70/75\n",
      "81/81 [==============================] - 0s 4ms/step - loss: 0.0096\n",
      "Epoch 71/75\n",
      "81/81 [==============================] - 0s 4ms/step - loss: 0.0087\n",
      "Epoch 72/75\n",
      "81/81 [==============================] - 0s 4ms/step - loss: 0.0096\n",
      "Epoch 73/75\n",
      "81/81 [==============================] - 0s 4ms/step - loss: 0.0091\n",
      "Epoch 74/75\n",
      "81/81 [==============================] - 0s 4ms/step - loss: 0.0092\n",
      "Epoch 75/75\n",
      "81/81 [==============================] - 0s 4ms/step - loss: 0.0094\n"
     ]
    },
    {
     "data": {
      "text/plain": [
       "<keras.callbacks.History at 0x24ecaf80040>"
      ]
     },
     "execution_count": 26,
     "metadata": {},
     "output_type": "execute_result"
    }
   ],
   "source": [
    "# Fitting the model\n",
    "rnn.fit(generator, epochs=75)"
   ]
  },
  {
   "cell_type": "code",
   "execution_count": 28,
   "id": "a5f2182e",
   "metadata": {},
   "outputs": [
    {
     "data": {
      "text/plain": [
       "array([[0.78219776],\n",
       "       [0.61997942],\n",
       "       [1.        ],\n",
       "       [0.68286731],\n",
       "       [0.47315947],\n",
       "       [0.59317026],\n",
       "       [0.26124559],\n",
       "       [0.26139614],\n",
       "       [0.58185149],\n",
       "       [0.65398593],\n",
       "       [0.2644386 ],\n",
       "       [0.50051439],\n",
       "       [0.46597049],\n",
       "       [0.49891475],\n",
       "       [0.56301126],\n",
       "       [0.28382459],\n",
       "       [0.18183643],\n",
       "       [0.22048085],\n",
       "       [0.58717944],\n",
       "       [0.        ]])"
      ]
     },
     "execution_count": 28,
     "metadata": {},
     "output_type": "execute_result"
    }
   ],
   "source": [
    "test_scale"
   ]
  },
  {
   "cell_type": "code",
   "execution_count": 31,
   "id": "8618142f",
   "metadata": {},
   "outputs": [],
   "source": [
    "predict_train = train_scale[-15:]  #last 15 values"
   ]
  },
  {
   "cell_type": "code",
   "execution_count": 32,
   "id": "cf502323",
   "metadata": {},
   "outputs": [],
   "source": [
    "predict_train = predict_train.reshape(1, n_input,1)\n"
   ]
  },
  {
   "cell_type": "code",
   "execution_count": 33,
   "id": "5d578831",
   "metadata": {},
   "outputs": [
    {
     "data": {
      "text/plain": [
       "(1, 15, 1)"
      ]
     },
     "execution_count": 33,
     "metadata": {},
     "output_type": "execute_result"
    }
   ],
   "source": [
    "predict_train.shape"
   ]
  },
  {
   "cell_type": "code",
   "execution_count": 34,
   "id": "13cecb1a",
   "metadata": {},
   "outputs": [
    {
     "name": "stdout",
     "output_type": "stream",
     "text": [
      "WARNING:tensorflow:Model was constructed with shape (None, 15, 1) for input KerasTensor(type_spec=TensorSpec(shape=(None, 15, 1), dtype=tf.float32, name='lstm_input'), name='lstm_input', description=\"created by layer 'lstm_input'\"), but it was called on an input with incompatible shape (None, 1, 1).\n"
     ]
    },
    {
     "data": {
      "text/plain": [
       "array([[0.18612522],\n",
       "       [0.1867516 ],\n",
       "       [0.20414597],\n",
       "       [0.16534342],\n",
       "       [0.17765576],\n",
       "       [0.18402153],\n",
       "       [0.18484576],\n",
       "       [0.16204795],\n",
       "       [0.17309712],\n",
       "       [0.1678642 ],\n",
       "       [0.17438014],\n",
       "       [0.18898976],\n",
       "       [0.19851026],\n",
       "       [0.19837007],\n",
       "       [0.20499276]], dtype=float32)"
      ]
     },
     "execution_count": 34,
     "metadata": {},
     "output_type": "execute_result"
    }
   ],
   "source": [
    "rnn.predict(train_scale[-15:])"
   ]
  },
  {
   "cell_type": "code",
   "execution_count": 35,
   "id": "20e2b1df",
   "metadata": {
    "scrolled": true
   },
   "outputs": [
    {
     "data": {
      "text/plain": [
       "array([[0.81909865]], dtype=float32)"
      ]
     },
     "execution_count": 35,
     "metadata": {},
     "output_type": "execute_result"
    }
   ],
   "source": [
    "rnn.predict(predict_train)  # prediction of first data after scaling"
   ]
  },
  {
   "cell_type": "code",
   "execution_count": 36,
   "id": "d19fb96a",
   "metadata": {},
   "outputs": [
    {
     "data": {
      "text/plain": [
       "array([0.78219776])"
      ]
     },
     "execution_count": 36,
     "metadata": {},
     "output_type": "execute_result"
    }
   ],
   "source": [
    "test_scale[0]   #here we can see the difference in predicted and real value"
   ]
  },
  {
   "cell_type": "code",
   "execution_count": null,
   "id": "21896d3f",
   "metadata": {},
   "outputs": [],
   "source": []
  }
 ],
 "metadata": {
  "kernelspec": {
   "display_name": "Python 3 (ipykernel)",
   "language": "python",
   "name": "python3"
  },
  "language_info": {
   "codemirror_mode": {
    "name": "ipython",
    "version": 3
   },
   "file_extension": ".py",
   "mimetype": "text/x-python",
   "name": "python",
   "nbconvert_exporter": "python",
   "pygments_lexer": "ipython3",
   "version": "3.9.7"
  }
 },
 "nbformat": 4,
 "nbformat_minor": 5
}
