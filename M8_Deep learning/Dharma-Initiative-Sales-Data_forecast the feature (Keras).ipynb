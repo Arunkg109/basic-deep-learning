{
 "cells": [
  {
   "cell_type": "markdown",
   "id": "479c1b0a",
   "metadata": {},
   "source": [
    "### Build a LSTM time series model to forecast the Sales_quantity. Use 6 as the number of time periods to forecast the feature. The number of data points in training and test can be your wish."
   ]
  },
  {
   "cell_type": "code",
   "execution_count": 1,
   "id": "329ba27a",
   "metadata": {},
   "outputs": [],
   "source": [
    "# import libraries\n",
    "\n",
    "import pandas as pd\n",
    "import numpy as np\n",
    "import matplotlib.pyplot as plt"
   ]
  },
  {
   "cell_type": "code",
   "execution_count": 2,
   "id": "91196741",
   "metadata": {
    "scrolled": true
   },
   "outputs": [
    {
     "data": {
      "text/html": [
       "<div>\n",
       "<style scoped>\n",
       "    .dataframe tbody tr th:only-of-type {\n",
       "        vertical-align: middle;\n",
       "    }\n",
       "\n",
       "    .dataframe tbody tr th {\n",
       "        vertical-align: top;\n",
       "    }\n",
       "\n",
       "    .dataframe thead th {\n",
       "        text-align: right;\n",
       "    }\n",
       "</style>\n",
       "<table border=\"1\" class=\"dataframe\">\n",
       "  <thead>\n",
       "    <tr style=\"text-align: right;\">\n",
       "      <th></th>\n",
       "      <th>Period</th>\n",
       "      <th>Revenue</th>\n",
       "      <th>Sales_quantity</th>\n",
       "      <th>Average_cost</th>\n",
       "      <th>The_average_annual_payroll_of_the_region</th>\n",
       "    </tr>\n",
       "  </thead>\n",
       "  <tbody>\n",
       "    <tr>\n",
       "      <th>0</th>\n",
       "      <td>01.01.2015</td>\n",
       "      <td>16010072.12</td>\n",
       "      <td>12729</td>\n",
       "      <td>1257.763541</td>\n",
       "      <td>30024676</td>\n",
       "    </tr>\n",
       "    <tr>\n",
       "      <th>1</th>\n",
       "      <td>01.02.2015</td>\n",
       "      <td>15807587.45</td>\n",
       "      <td>11636</td>\n",
       "      <td>1358.507000</td>\n",
       "      <td>30024676</td>\n",
       "    </tr>\n",
       "    <tr>\n",
       "      <th>2</th>\n",
       "      <td>01.03.2015</td>\n",
       "      <td>22047146.02</td>\n",
       "      <td>15922</td>\n",
       "      <td>1384.697024</td>\n",
       "      <td>30024676</td>\n",
       "    </tr>\n",
       "    <tr>\n",
       "      <th>3</th>\n",
       "      <td>01.04.2015</td>\n",
       "      <td>18814583.29</td>\n",
       "      <td>15227</td>\n",
       "      <td>1235.606705</td>\n",
       "      <td>30024676</td>\n",
       "    </tr>\n",
       "    <tr>\n",
       "      <th>4</th>\n",
       "      <td>01.05.2015</td>\n",
       "      <td>14021479.61</td>\n",
       "      <td>8620</td>\n",
       "      <td>1626.621765</td>\n",
       "      <td>30024676</td>\n",
       "    </tr>\n",
       "  </tbody>\n",
       "</table>\n",
       "</div>"
      ],
      "text/plain": [
       "       Period      Revenue  Sales_quantity  Average_cost  \\\n",
       "0  01.01.2015  16010072.12           12729   1257.763541   \n",
       "1  01.02.2015  15807587.45           11636   1358.507000   \n",
       "2  01.03.2015  22047146.02           15922   1384.697024   \n",
       "3  01.04.2015  18814583.29           15227   1235.606705   \n",
       "4  01.05.2015  14021479.61            8620   1626.621765   \n",
       "\n",
       "   The_average_annual_payroll_of_the_region  \n",
       "0                                  30024676  \n",
       "1                                  30024676  \n",
       "2                                  30024676  \n",
       "3                                  30024676  \n",
       "4                                  30024676  "
      ]
     },
     "execution_count": 2,
     "metadata": {},
     "output_type": "execute_result"
    }
   ],
   "source": [
    "# import data\n",
    "\n",
    "data = pd.read_csv('F:\\Skillenable\\Data frames\\Dharma-Initiative-Sales-Data.csv')\n",
    "data.head()"
   ]
  },
  {
   "cell_type": "code",
   "execution_count": 3,
   "id": "11827f80",
   "metadata": {},
   "outputs": [],
   "source": [
    "df = data[['Period', 'Sales_quantity']]"
   ]
  },
  {
   "cell_type": "code",
   "execution_count": 4,
   "id": "cb75d817",
   "metadata": {
    "scrolled": true
   },
   "outputs": [
    {
     "data": {
      "text/html": [
       "<div>\n",
       "<style scoped>\n",
       "    .dataframe tbody tr th:only-of-type {\n",
       "        vertical-align: middle;\n",
       "    }\n",
       "\n",
       "    .dataframe tbody tr th {\n",
       "        vertical-align: top;\n",
       "    }\n",
       "\n",
       "    .dataframe thead th {\n",
       "        text-align: right;\n",
       "    }\n",
       "</style>\n",
       "<table border=\"1\" class=\"dataframe\">\n",
       "  <thead>\n",
       "    <tr style=\"text-align: right;\">\n",
       "      <th></th>\n",
       "      <th>Period</th>\n",
       "      <th>Sales_quantity</th>\n",
       "    </tr>\n",
       "  </thead>\n",
       "  <tbody>\n",
       "    <tr>\n",
       "      <th>0</th>\n",
       "      <td>01.01.2015</td>\n",
       "      <td>12729</td>\n",
       "    </tr>\n",
       "    <tr>\n",
       "      <th>1</th>\n",
       "      <td>01.02.2015</td>\n",
       "      <td>11636</td>\n",
       "    </tr>\n",
       "    <tr>\n",
       "      <th>2</th>\n",
       "      <td>01.03.2015</td>\n",
       "      <td>15922</td>\n",
       "    </tr>\n",
       "    <tr>\n",
       "      <th>3</th>\n",
       "      <td>01.04.2015</td>\n",
       "      <td>15227</td>\n",
       "    </tr>\n",
       "    <tr>\n",
       "      <th>4</th>\n",
       "      <td>01.05.2015</td>\n",
       "      <td>8620</td>\n",
       "    </tr>\n",
       "  </tbody>\n",
       "</table>\n",
       "</div>"
      ],
      "text/plain": [
       "       Period  Sales_quantity\n",
       "0  01.01.2015           12729\n",
       "1  01.02.2015           11636\n",
       "2  01.03.2015           15922\n",
       "3  01.04.2015           15227\n",
       "4  01.05.2015            8620"
      ]
     },
     "execution_count": 4,
     "metadata": {},
     "output_type": "execute_result"
    }
   ],
   "source": [
    "df.head()"
   ]
  },
  {
   "cell_type": "code",
   "execution_count": 5,
   "id": "cb6725a9",
   "metadata": {
    "scrolled": true
   },
   "outputs": [
    {
     "name": "stdout",
     "output_type": "stream",
     "text": [
      "<class 'pandas.core.frame.DataFrame'>\n",
      "RangeIndex: 64 entries, 0 to 63\n",
      "Data columns (total 2 columns):\n",
      " #   Column          Non-Null Count  Dtype \n",
      "---  ------          --------------  ----- \n",
      " 0   Period          64 non-null     object\n",
      " 1   Sales_quantity  64 non-null     int64 \n",
      "dtypes: int64(1), object(1)\n",
      "memory usage: 1.1+ KB\n"
     ]
    }
   ],
   "source": [
    "df.info()"
   ]
  },
  {
   "cell_type": "code",
   "execution_count": 6,
   "id": "cd9797e0",
   "metadata": {
    "scrolled": true
   },
   "outputs": [
    {
     "name": "stderr",
     "output_type": "stream",
     "text": [
      "C:\\Users\\arun\\AppData\\Local\\Temp/ipykernel_5904/3732639959.py:2: SettingWithCopyWarning: \n",
      "A value is trying to be set on a copy of a slice from a DataFrame.\n",
      "Try using .loc[row_indexer,col_indexer] = value instead\n",
      "\n",
      "See the caveats in the documentation: https://pandas.pydata.org/pandas-docs/stable/user_guide/indexing.html#returning-a-view-versus-a-copy\n",
      "  df['Period'] = pd.to_datetime(df.Period)\n"
     ]
    }
   ],
   "source": [
    "# datatime tadatype\n",
    "df['Period'] = pd.to_datetime(df.Period)\n"
   ]
  },
  {
   "cell_type": "code",
   "execution_count": 7,
   "id": "6cb645d5",
   "metadata": {},
   "outputs": [
    {
     "data": {
      "text/html": [
       "<div>\n",
       "<style scoped>\n",
       "    .dataframe tbody tr th:only-of-type {\n",
       "        vertical-align: middle;\n",
       "    }\n",
       "\n",
       "    .dataframe tbody tr th {\n",
       "        vertical-align: top;\n",
       "    }\n",
       "\n",
       "    .dataframe thead th {\n",
       "        text-align: right;\n",
       "    }\n",
       "</style>\n",
       "<table border=\"1\" class=\"dataframe\">\n",
       "  <thead>\n",
       "    <tr style=\"text-align: right;\">\n",
       "      <th></th>\n",
       "      <th>Sales_quantity</th>\n",
       "    </tr>\n",
       "    <tr>\n",
       "      <th>Period</th>\n",
       "      <th></th>\n",
       "    </tr>\n",
       "  </thead>\n",
       "  <tbody>\n",
       "    <tr>\n",
       "      <th>2015-01-01</th>\n",
       "      <td>12729</td>\n",
       "    </tr>\n",
       "    <tr>\n",
       "      <th>2015-01-02</th>\n",
       "      <td>11636</td>\n",
       "    </tr>\n",
       "    <tr>\n",
       "      <th>2015-01-03</th>\n",
       "      <td>15922</td>\n",
       "    </tr>\n",
       "    <tr>\n",
       "      <th>2015-01-04</th>\n",
       "      <td>15227</td>\n",
       "    </tr>\n",
       "    <tr>\n",
       "      <th>2015-01-05</th>\n",
       "      <td>8620</td>\n",
       "    </tr>\n",
       "  </tbody>\n",
       "</table>\n",
       "</div>"
      ],
      "text/plain": [
       "            Sales_quantity\n",
       "Period                    \n",
       "2015-01-01           12729\n",
       "2015-01-02           11636\n",
       "2015-01-03           15922\n",
       "2015-01-04           15227\n",
       "2015-01-05            8620"
      ]
     },
     "execution_count": 7,
     "metadata": {},
     "output_type": "execute_result"
    }
   ],
   "source": [
    "# indexing\n",
    "df.set_index('Period', inplace= True)\n",
    "df.head()"
   ]
  },
  {
   "cell_type": "code",
   "execution_count": 8,
   "id": "d9e1a02d",
   "metadata": {},
   "outputs": [
    {
     "data": {
      "text/plain": [
       "<AxesSubplot:xlabel='Period'>"
      ]
     },
     "execution_count": 8,
     "metadata": {},
     "output_type": "execute_result"
    },
    {
     "data": {
      "image/png": "[encoded data removed]",
      "text/plain": [
       "<Figure size 720x432 with 1 Axes>"
      ]
     },
     "metadata": {
      "needs_background": "light"
     },
     "output_type": "display_data"
    }
   ],
   "source": [
    "df.plot(figsize= (10,6))   # plotting the data"
   ]
  },
  {
   "cell_type": "code",
   "execution_count": 12,
   "id": "96baffc8",
   "metadata": {},
   "outputs": [
    {
     "data": {
      "text/plain": [
       "54"
      ]
     },
     "execution_count": 12,
     "metadata": {},
     "output_type": "execute_result"
    }
   ],
   "source": [
    "# saperate the data as train and test\n",
    "len(data)-10  # taking last 10 data as test data"
   ]
  },
  {
   "cell_type": "code",
   "execution_count": 14,
   "id": "fc16afe8",
   "metadata": {},
   "outputs": [],
   "source": [
    "train = df.iloc[:54]\n",
    "test = df.iloc[54:]"
   ]
  },
  {
   "cell_type": "code",
   "execution_count": 15,
   "id": "b86f7ba7",
   "metadata": {},
   "outputs": [
    {
     "data": {
      "text/plain": [
       "(54, 10)"
      ]
     },
     "execution_count": 15,
     "metadata": {},
     "output_type": "execute_result"
    }
   ],
   "source": [
    "len(train), len(test)"
   ]
  },
  {
   "cell_type": "code",
   "execution_count": 16,
   "id": "dcf3e25b",
   "metadata": {},
   "outputs": [],
   "source": [
    "# NOrmalizing the data\n",
    "from sklearn.preprocessing import MinMaxScaler"
   ]
  },
  {
   "cell_type": "code",
   "execution_count": 17,
   "id": "fa003618",
   "metadata": {},
   "outputs": [],
   "source": [
    "scaler = MinMaxScaler()  # assigning the object"
   ]
  },
  {
   "cell_type": "code",
   "execution_count": 18,
   "id": "4f6310fc",
   "metadata": {},
   "outputs": [],
   "source": [
    "train_scale = scaler.fit_transform(train) # scaled the data\n",
    "test_scale = scaler.fit_transform(test)"
   ]
  },
  {
   "cell_type": "code",
   "execution_count": 19,
   "id": "9dede8b8",
   "metadata": {},
   "outputs": [
    {
     "data": {
      "text/plain": [
       "array([[0.31669346],\n",
       "       [0.        ],\n",
       "       [0.37321262],\n",
       "       [0.51493358],\n",
       "       [0.31965479],\n",
       "       [1.        ],\n",
       "       [0.53951265],\n",
       "       [0.38404264],\n",
       "       [0.7673238 ],\n",
       "       [0.51544124]])"
      ]
     },
     "execution_count": 19,
     "metadata": {},
     "output_type": "execute_result"
    }
   ],
   "source": [
    "test_scale"
   ]
  },
  {
   "cell_type": "code",
   "execution_count": 21,
   "id": "9b12e113",
   "metadata": {},
   "outputs": [],
   "source": [
    "from keras.preprocessing.sequence import TimeseriesGenerator\n",
    "\n",
    "# We will take 6 values to predict the time series data \n",
    "\n",
    "n_input = 6\n",
    "generator = TimeseriesGenerator(train_scale, train_scale, length = n_input, batch_size = 1)"
   ]
  },
  {
   "cell_type": "code",
   "execution_count": 22,
   "id": "290ad695",
   "metadata": {},
   "outputs": [
    {
     "data": {
      "text/plain": [
       "array([[0.17614203],\n",
       "       [0.13253541],\n",
       "       [0.30353082],\n",
       "       [0.27580291],\n",
       "       [0.01220826],\n",
       "       [0.19333732]])"
      ]
     },
     "execution_count": 22,
     "metadata": {},
     "output_type": "execute_result"
    }
   ],
   "source": [
    "train_scale[:6]"
   ]
  },
  {
   "cell_type": "code",
   "execution_count": 27,
   "id": "ed07270f",
   "metadata": {},
   "outputs": [
    {
     "data": {
      "text/plain": [
       "(array([[[0.17614203],\n",
       "         [0.13253541],\n",
       "         [0.30353082],\n",
       "         [0.27580291],\n",
       "         [0.01220826],\n",
       "         [0.19333732]]]),\n",
       " array([[0.35667265]]))"
      ]
     },
     "execution_count": 27,
     "metadata": {},
     "output_type": "execute_result"
    }
   ],
   "source": [
    "generator[0]    #IT'S OUR FIRST GENERATOR OF FIRST INDEX; give first 12 data"
   ]
  },
  {
   "cell_type": "code",
   "execution_count": 23,
   "id": "169b452f",
   "metadata": {},
   "outputs": [],
   "source": [
    "from keras.models import Sequential\n",
    "from keras.layers import Dense\n",
    "from keras.layers import LSTM\n",
    "\n",
    "# Defining the model\n",
    "\n",
    "rnn = Sequential()"
   ]
  },
  {
   "cell_type": "code",
   "execution_count": 24,
   "id": "fbcb6307",
   "metadata": {},
   "outputs": [],
   "source": [
    "rnn.add(LSTM(units=50, activation = 'relu', input_shape= (n_input, 1))) # adding input layer"
   ]
  },
  {
   "cell_type": "code",
   "execution_count": 25,
   "id": "0535e955",
   "metadata": {},
   "outputs": [],
   "source": [
    "# output layer\n",
    "rnn.add(Dense(units=1)) ## output = 1"
   ]
  },
  {
   "cell_type": "code",
   "execution_count": 31,
   "id": "a9f68eee",
   "metadata": {},
   "outputs": [],
   "source": [
    "# compile model\n",
    "\n",
    "rnn.compile(optimizer= 'adam', loss='binary_crossentropy', metrics='accuracy')"
   ]
  },
  {
   "cell_type": "code",
   "execution_count": 32,
   "id": "6387f779",
   "metadata": {},
   "outputs": [
    {
     "name": "stdout",
     "output_type": "stream",
     "text": [
      "Epoch 1/50\n",
      "48/48 [==============================] - 1s 3ms/step - loss: 6.3608 - accuracy: 0.0208\n",
      "Epoch 2/50\n",
      "48/48 [==============================] - 0s 2ms/step - loss: 6.3608 - accuracy: 0.0208\n",
      "Epoch 3/50\n",
      "48/48 [==============================] - 0s 2ms/step - loss: 6.3608 - accuracy: 0.0208\n",
      "Epoch 4/50\n",
      "48/48 [==============================] - 0s 2ms/step - loss: 6.3608 - accuracy: 0.0208\n",
      "Epoch 5/50\n",
      "48/48 [==============================] - 0s 3ms/step - loss: 6.3608 - accuracy: 0.0208\n",
      "Epoch 6/50\n",
      "48/48 [==============================] - 0s 3ms/step - loss: 6.3608 - accuracy: 0.0208\n",
      "Epoch 7/50\n",
      "48/48 [==============================] - 0s 3ms/step - loss: 6.3608 - accuracy: 0.0208\n",
      "Epoch 8/50\n",
      "48/48 [==============================] - 0s 3ms/step - loss: 6.3608 - accuracy: 0.0208\n",
      "Epoch 9/50\n",
      "48/48 [==============================] - 0s 2ms/step - loss: 6.3608 - accuracy: 0.0208\n",
      "Epoch 10/50\n",
      "48/48 [==============================] - 0s 3ms/step - loss: 6.3608 - accuracy: 0.0208\n",
      "Epoch 11/50\n",
      "48/48 [==============================] - 0s 3ms/step - loss: 6.3608 - accuracy: 0.0208\n",
      "Epoch 12/50\n",
      "48/48 [==============================] - 0s 3ms/step - loss: 6.3608 - accuracy: 0.0208\n",
      "Epoch 13/50\n",
      "48/48 [==============================] - 0s 3ms/step - loss: 6.3608 - accuracy: 0.0208\n",
      "Epoch 14/50\n",
      "48/48 [==============================] - 0s 3ms/step - loss: 6.3608 - accuracy: 0.0208\n",
      "Epoch 15/50\n",
      "48/48 [==============================] - 0s 3ms/step - loss: 6.3608 - accuracy: 0.0208\n",
      "Epoch 16/50\n",
      "48/48 [==============================] - 0s 2ms/step - loss: 6.3608 - accuracy: 0.0208\n",
      "Epoch 17/50\n",
      "48/48 [==============================] - 0s 3ms/step - loss: 6.3608 - accuracy: 0.0208\n",
      "Epoch 18/50\n",
      "48/48 [==============================] - 0s 3ms/step - loss: 6.3608 - accuracy: 0.0208\n",
      "Epoch 19/50\n",
      "48/48 [==============================] - 0s 3ms/step - loss: 6.3608 - accuracy: 0.0208\n",
      "Epoch 20/50\n",
      "48/48 [==============================] - 0s 3ms/step - loss: 6.3608 - accuracy: 0.0208\n",
      "Epoch 21/50\n",
      "48/48 [==============================] - 0s 2ms/step - loss: 6.3608 - accuracy: 0.0208\n",
      "Epoch 22/50\n",
      "48/48 [==============================] - 0s 2ms/step - loss: 6.3608 - accuracy: 0.0208\n",
      "Epoch 23/50\n",
      "48/48 [==============================] - 0s 3ms/step - loss: 6.3608 - accuracy: 0.0208\n",
      "Epoch 24/50\n",
      "48/48 [==============================] - 0s 3ms/step - loss: 6.3608 - accuracy: 0.0208\n",
      "Epoch 25/50\n",
      "48/48 [==============================] - 0s 3ms/step - loss: 6.3608 - accuracy: 0.0208\n",
      "Epoch 26/50\n",
      "48/48 [==============================] - 0s 3ms/step - loss: 6.3608 - accuracy: 0.0208\n",
      "Epoch 27/50\n",
      "48/48 [==============================] - 0s 3ms/step - loss: 6.3608 - accuracy: 0.0208\n",
      "Epoch 28/50\n",
      "48/48 [==============================] - 0s 3ms/step - loss: 6.3608 - accuracy: 0.0208\n",
      "Epoch 29/50\n",
      "48/48 [==============================] - 0s 3ms/step - loss: 6.3608 - accuracy: 0.0208\n",
      "Epoch 30/50\n",
      "48/48 [==============================] - 0s 2ms/step - loss: 6.3608 - accuracy: 0.0208\n",
      "Epoch 31/50\n",
      "48/48 [==============================] - 0s 3ms/step - loss: 6.3608 - accuracy: 0.0208\n",
      "Epoch 32/50\n",
      "48/48 [==============================] - 0s 3ms/step - loss: 6.3608 - accuracy: 0.0208\n",
      "Epoch 33/50\n",
      "48/48 [==============================] - 0s 3ms/step - loss: 6.3608 - accuracy: 0.0208\n",
      "Epoch 34/50\n",
      "48/48 [==============================] - 0s 2ms/step - loss: 6.3608 - accuracy: 0.0208\n",
      "Epoch 35/50\n",
      "48/48 [==============================] - 0s 2ms/step - loss: 6.3608 - accuracy: 0.0208\n",
      "Epoch 36/50\n",
      "48/48 [==============================] - 0s 2ms/step - loss: 6.3608 - accuracy: 0.0208\n",
      "Epoch 37/50\n",
      "48/48 [==============================] - 0s 2ms/step - loss: 6.3608 - accuracy: 0.0208\n",
      "Epoch 38/50\n",
      "48/48 [==============================] - 0s 2ms/step - loss: 6.3608 - accuracy: 0.0208\n",
      "Epoch 39/50\n",
      "48/48 [==============================] - 0s 3ms/step - loss: 6.3608 - accuracy: 0.0208\n",
      "Epoch 40/50\n",
      "48/48 [==============================] - 0s 3ms/step - loss: 6.3608 - accuracy: 0.0208\n",
      "Epoch 41/50\n",
      "48/48 [==============================] - 0s 3ms/step - loss: 6.3608 - accuracy: 0.0208\n",
      "Epoch 42/50\n",
      "48/48 [==============================] - 0s 3ms/step - loss: 6.3608 - accuracy: 0.0208\n",
      "Epoch 43/50\n",
      "48/48 [==============================] - 0s 3ms/step - loss: 6.3608 - accuracy: 0.0208\n",
      "Epoch 44/50\n",
      "48/48 [==============================] - 0s 3ms/step - loss: 6.3608 - accuracy: 0.0208\n",
      "Epoch 45/50\n",
      "48/48 [==============================] - 0s 2ms/step - loss: 6.3608 - accuracy: 0.0208\n",
      "Epoch 46/50\n",
      "48/48 [==============================] - 0s 2ms/step - loss: 6.3608 - accuracy: 0.0208\n",
      "Epoch 47/50\n",
      "48/48 [==============================] - 0s 2ms/step - loss: 6.3608 - accuracy: 0.0208\n",
      "Epoch 48/50\n",
      "48/48 [==============================] - 0s 2ms/step - loss: 6.3608 - accuracy: 0.0208\n",
      "Epoch 49/50\n",
      "48/48 [==============================] - 0s 2ms/step - loss: 6.3608 - accuracy: 0.0208\n",
      "Epoch 50/50\n",
      "48/48 [==============================] - 0s 2ms/step - loss: 6.3608 - accuracy: 0.0208\n"
     ]
    },
    {
     "data": {
      "text/plain": [
       "<keras.callbacks.History at 0x18a1a0e8b50>"
      ]
     },
     "execution_count": 32,
     "metadata": {},
     "output_type": "execute_result"
    }
   ],
   "source": [
    "# fitting the model\n",
    "\n",
    "rnn.fit(generator, epochs=50)"
   ]
  },
  {
   "cell_type": "code",
   "execution_count": 33,
   "id": "8f6aa198",
   "metadata": {},
   "outputs": [
    {
     "data": {
      "text/plain": [
       "array([[0.31669346],\n",
       "       [0.        ],\n",
       "       [0.37321262],\n",
       "       [0.51493358],\n",
       "       [0.31965479],\n",
       "       [1.        ],\n",
       "       [0.53951265],\n",
       "       [0.38404264],\n",
       "       [0.7673238 ],\n",
       "       [0.51544124]])"
      ]
     },
     "execution_count": 33,
     "metadata": {},
     "output_type": "execute_result"
    }
   ],
   "source": [
    "test_scale"
   ]
  },
  {
   "cell_type": "code",
   "execution_count": 36,
   "id": "4d44dea9",
   "metadata": {},
   "outputs": [],
   "source": [
    "predict_train = train_scale[-6:]  #last 6 val"
   ]
  },
  {
   "cell_type": "code",
   "execution_count": 37,
   "id": "f44762f7",
   "metadata": {},
   "outputs": [],
   "source": [
    "predict_train = predict_train.reshape(1,n_input,1)"
   ]
  },
  {
   "cell_type": "code",
   "execution_count": 38,
   "id": "ef7b1ca9",
   "metadata": {},
   "outputs": [
    {
     "data": {
      "text/plain": [
       "(1, 6, 1)"
      ]
     },
     "execution_count": 38,
     "metadata": {},
     "output_type": "execute_result"
    }
   ],
   "source": [
    "predict_train.shape   #3d data"
   ]
  },
  {
   "cell_type": "code",
   "execution_count": 39,
   "id": "7ff6b783",
   "metadata": {},
   "outputs": [
    {
     "name": "stdout",
     "output_type": "stream",
     "text": [
      "WARNING:tensorflow:Model was constructed with shape (None, 6, 1) for input KerasTensor(type_spec=TensorSpec(shape=(None, 6, 1), dtype=tf.float32, name='lstm_input'), name='lstm_input', description=\"created by layer 'lstm_input'\"), but it was called on an input with incompatible shape (None, 1, 1).\n"
     ]
    },
    {
     "data": {
      "text/plain": [
       "array([[-0.00347447],\n",
       "       [-0.00298578],\n",
       "       [-0.00512383],\n",
       "       [-0.00311449],\n",
       "       [-0.0020089 ],\n",
       "       [-0.00363999]], dtype=float32)"
      ]
     },
     "execution_count": 39,
     "metadata": {},
     "output_type": "execute_result"
    }
   ],
   "source": [
    "rnn.predict(train_scale[-6:])"
   ]
  },
  {
   "cell_type": "code",
   "execution_count": 40,
   "id": "602c8d20",
   "metadata": {},
   "outputs": [
    {
     "data": {
      "text/plain": [
       "array([[-0.01327989]], dtype=float32)"
      ]
     },
     "execution_count": 40,
     "metadata": {},
     "output_type": "execute_result"
    }
   ],
   "source": [
    "rnn.predict(predict_train)  # prediction of first data after scaling"
   ]
  },
  {
   "cell_type": "code",
   "execution_count": 41,
   "id": "2dfff93f",
   "metadata": {},
   "outputs": [
    {
     "data": {
      "text/plain": [
       "array([0.31669346])"
      ]
     },
     "execution_count": 41,
     "metadata": {},
     "output_type": "execute_result"
    }
   ],
   "source": [
    "test_scale[0]   #here we can see the difference in predicted and real value"
   ]
  },
  {
   "cell_type": "code",
   "execution_count": null,
   "id": "d7b6873d",
   "metadata": {},
   "outputs": [],
   "source": []
  }
 ],
 "metadata": {
  "kernelspec": {
   "display_name": "Python 3 (ipykernel)",
   "language": "python",
   "name": "python3"
  },
  "language_info": {
   "codemirror_mode": {
    "name": "ipython",
    "version": 3
   },
   "file_extension": ".py",
   "mimetype": "text/x-python",
   "name": "python",
   "nbconvert_exporter": "python",
   "pygments_lexer": "ipython3",
   "version": "3.9.7"
  }
 },
 "nbformat": 4,
 "nbformat_minor": 5
}
