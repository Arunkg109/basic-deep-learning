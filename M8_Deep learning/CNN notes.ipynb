{
 "cells": [
  {
   "cell_type": "markdown",
   "id": "1918537f",
   "metadata": {},
   "source": [
    "# CNN"
   ]
  },
  {
   "cell_type": "markdown",
   "id": "7494a83a",
   "metadata": {},
   "source": [
    "### Working of CNN\n",
    "\n",
    "- Input image => CNN => Output label"
   ]
  },
  {
   "cell_type": "markdown",
   "id": "2831a0cc",
   "metadata": {},
   "source": [
    "### Technical terms related CNN\n",
    "\n",
    "- 1. Convolutional\n",
    "- 2. Pooling\n",
    "- 3. Flatening\n",
    "- 4. stride\n",
    "- 5. Kernel"
   ]
  },
  {
   "cell_type": "markdown",
   "id": "93b4da54",
   "metadata": {},
   "source": [
    "## BW v/s Colored image\n",
    "\n",
    "- For BW the pixel value beetween 0 to 255\n",
    "- For colored image the pixels are breaked into RGB \n",
    "- there are 3 diff pixel values\n"
   ]
  },
  {
   "cell_type": "markdown",
   "id": "fb31b548",
   "metadata": {},
   "source": [
    "## Image to Pixel\n",
    " \n",
    " #### step1: convolution \n",
    "    - Identifying basic feature => converting image into number(0 and 1)\n",
    "    - feature map = Input image* feature detector\n",
    "    - NO of rows and col in feature maap = [Input image - feature detector] + 1\n",
    "    \n",
    " #### Step2: Pooling\n",
    "     - used to reduce the dimention of the feature map. \n",
    "     -\n",
    " #### Step 3: Flattening\n",
    "     - converting feature map (image) into array\n",
    "     "
   ]
  },
  {
   "cell_type": "code",
   "execution_count": null,
   "id": "e602d386",
   "metadata": {},
   "outputs": [],
   "source": []
  }
 ],
 "metadata": {
  "kernelspec": {
   "display_name": "Python 3 (ipykernel)",
   "language": "python",
   "name": "python3"
  },
  "language_info": {
   "codemirror_mode": {
    "name": "ipython",
    "version": 3
   },
   "file_extension": ".py",
   "mimetype": "text/x-python",
   "name": "python",
   "nbconvert_exporter": "python",
   "pygments_lexer": "ipython3",
   "version": "3.9.7"
  }
 },
 "nbformat": 4,
 "nbformat_minor": 5
}
