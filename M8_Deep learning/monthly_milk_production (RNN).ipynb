{
 "cells": [
  {
   "cell_type": "markdown",
   "id": "ed4ba234",
   "metadata": {},
   "source": [
    "# RNN\n",
    "- use for text and tie series.\n",
    "- reccuring of layer \n"
   ]
  },
  {
   "cell_type": "markdown",
   "id": "281e0c67",
   "metadata": {},
   "source": [
    "## Data for Rnn\n",
    "\n",
    "- eg. reviews, comments, sales data of time series data. \n",
    "- The data used is in continue sequence in time series. \n"
   ]
  },
  {
   "cell_type": "markdown",
   "id": "dc2e5d2e",
   "metadata": {},
   "source": [
    "## use cases of RNN\n",
    "- 1. Auto comlation of sent. in search engine and mails. \n",
    "- 2. Translations to variois languages\n",
    "- 3. Name Entity recognition\n",
    "- 4. Voice recongnisation. "
   ]
  },
  {
   "cell_type": "markdown",
   "id": "d03fdfcd",
   "metadata": {},
   "source": [
    "# Why RNN over ANN for sequential data\n",
    "\n",
    "- There is no fixed input values in RNN, it can take 10 input and also can take 100 input for the same model, which is not possible in ANN.\n"
   ]
  },
  {
   "cell_type": "markdown",
   "id": "34938d14",
   "metadata": {},
   "source": [
    "## RNN Architecture\n",
    "\n",
    "- input => Neural Network with feedback loop => Output"
   ]
  },
  {
   "cell_type": "markdown",
   "id": "373b97c1",
   "metadata": {},
   "source": [
    "## Type of RNN\n",
    "\n",
    "- 1. One to One RNN  (One input and one output)\n",
    "        - eg: Image recognition\n",
    "        \n",
    "- 2. One to many  (one input and many output)\n",
    "        - eg: Music Generation, Image Caption\n",
    "        \n",
    "- 3. Many to One (Many input and one output)\n",
    "        - eg: Sentiment analysis, Text Summarization\n",
    "        \n",
    "- 4. Manay to Many (Many inputs and many output)\n",
    "        - eg: Language Translation, Time series Prediction, Named Entity\n",
    "        "
   ]
  },
  {
   "cell_type": "markdown",
   "id": "a9f35114",
   "metadata": {},
   "source": [
    "## Vanishing Gradient & Exploding Gradient\n",
    "\n",
    "* Final Gradient = d1 * d2\n",
    "\n",
    "* Vanishing Gradient\n",
    "- The smaller gradient values (d1*d2) which doesnot add anything to the learning of the model is called vanishing gradient\n",
    "- it's common problem in RNN\n",
    "- \n",
    "\n",
    "\n",
    "\n",
    "* Exploding Gradient\n",
    "- The bigger gradient values (d1*d2) which overshaddow the input called Exploding gradient"
   ]
  },
  {
   "cell_type": "markdown",
   "id": "8c646acf",
   "metadata": {},
   "source": []
  },
  {
   "cell_type": "markdown",
   "id": "e63003cc",
   "metadata": {},
   "source": []
  },
  {
   "cell_type": "markdown",
   "id": "37dfa582",
   "metadata": {},
   "source": []
  },
  {
   "cell_type": "markdown",
   "id": "ea4a8d9c",
   "metadata": {},
   "source": [
    "# Long short term Memory (RNN)"
   ]
  },
  {
   "cell_type": "code",
   "execution_count": 1,
   "id": "643828db",
   "metadata": {},
   "outputs": [],
   "source": [
    "# import libraries\n",
    "\n",
    "import pandas as pd\n",
    "import numpy as np\n",
    "import matplotlib.pyplot as plt\n"
   ]
  },
  {
   "cell_type": "code",
   "execution_count": 2,
   "id": "e437843f",
   "metadata": {},
   "outputs": [
    {
     "data": {
      "text/html": [
       "<div>\n",
       "<style scoped>\n",
       "    .dataframe tbody tr th:only-of-type {\n",
       "        vertical-align: middle;\n",
       "    }\n",
       "\n",
       "    .dataframe tbody tr th {\n",
       "        vertical-align: top;\n",
       "    }\n",
       "\n",
       "    .dataframe thead th {\n",
       "        text-align: right;\n",
       "    }\n",
       "</style>\n",
       "<table border=\"1\" class=\"dataframe\">\n",
       "  <thead>\n",
       "    <tr style=\"text-align: right;\">\n",
       "      <th></th>\n",
       "      <th>Date</th>\n",
       "      <th>Production</th>\n",
       "    </tr>\n",
       "  </thead>\n",
       "  <tbody>\n",
       "    <tr>\n",
       "      <th>0</th>\n",
       "      <td>1962-01</td>\n",
       "      <td>589</td>\n",
       "    </tr>\n",
       "    <tr>\n",
       "      <th>1</th>\n",
       "      <td>1962-02</td>\n",
       "      <td>561</td>\n",
       "    </tr>\n",
       "    <tr>\n",
       "      <th>2</th>\n",
       "      <td>1962-03</td>\n",
       "      <td>640</td>\n",
       "    </tr>\n",
       "    <tr>\n",
       "      <th>3</th>\n",
       "      <td>1962-04</td>\n",
       "      <td>656</td>\n",
       "    </tr>\n",
       "    <tr>\n",
       "      <th>4</th>\n",
       "      <td>1962-05</td>\n",
       "      <td>727</td>\n",
       "    </tr>\n",
       "  </tbody>\n",
       "</table>\n",
       "</div>"
      ],
      "text/plain": [
       "      Date  Production\n",
       "0  1962-01         589\n",
       "1  1962-02         561\n",
       "2  1962-03         640\n",
       "3  1962-04         656\n",
       "4  1962-05         727"
      ]
     },
     "execution_count": 2,
     "metadata": {},
     "output_type": "execute_result"
    }
   ],
   "source": [
    "# import data\n",
    "\n",
    "data = pd.read_csv('F:\\Skillenable\\Data frames\\monthly_milk_production (1).csv')\n",
    "data.head()"
   ]
  },
  {
   "cell_type": "code",
   "execution_count": 3,
   "id": "81eb703e",
   "metadata": {},
   "outputs": [
    {
     "name": "stdout",
     "output_type": "stream",
     "text": [
      "<class 'pandas.core.frame.DataFrame'>\n",
      "RangeIndex: 168 entries, 0 to 167\n",
      "Data columns (total 2 columns):\n",
      " #   Column      Non-Null Count  Dtype \n",
      "---  ------      --------------  ----- \n",
      " 0   Date        168 non-null    object\n",
      " 1   Production  168 non-null    int64 \n",
      "dtypes: int64(1), object(1)\n",
      "memory usage: 2.8+ KB\n"
     ]
    }
   ],
   "source": [
    "data.info()"
   ]
  },
  {
   "cell_type": "code",
   "execution_count": 4,
   "id": "4f282171",
   "metadata": {},
   "outputs": [
    {
     "data": {
      "text/html": [
       "<div>\n",
       "<style scoped>\n",
       "    .dataframe tbody tr th:only-of-type {\n",
       "        vertical-align: middle;\n",
       "    }\n",
       "\n",
       "    .dataframe tbody tr th {\n",
       "        vertical-align: top;\n",
       "    }\n",
       "\n",
       "    .dataframe thead th {\n",
       "        text-align: right;\n",
       "    }\n",
       "</style>\n",
       "<table border=\"1\" class=\"dataframe\">\n",
       "  <thead>\n",
       "    <tr style=\"text-align: right;\">\n",
       "      <th></th>\n",
       "      <th>Production</th>\n",
       "    </tr>\n",
       "    <tr>\n",
       "      <th>Date</th>\n",
       "      <th></th>\n",
       "    </tr>\n",
       "  </thead>\n",
       "  <tbody>\n",
       "    <tr>\n",
       "      <th>1962-01-01</th>\n",
       "      <td>589</td>\n",
       "    </tr>\n",
       "    <tr>\n",
       "      <th>1962-02-01</th>\n",
       "      <td>561</td>\n",
       "    </tr>\n",
       "    <tr>\n",
       "      <th>1962-03-01</th>\n",
       "      <td>640</td>\n",
       "    </tr>\n",
       "    <tr>\n",
       "      <th>1962-04-01</th>\n",
       "      <td>656</td>\n",
       "    </tr>\n",
       "    <tr>\n",
       "      <th>1962-05-01</th>\n",
       "      <td>727</td>\n",
       "    </tr>\n",
       "  </tbody>\n",
       "</table>\n",
       "</div>"
      ],
      "text/plain": [
       "            Production\n",
       "Date                  \n",
       "1962-01-01         589\n",
       "1962-02-01         561\n",
       "1962-03-01         640\n",
       "1962-04-01         656\n",
       "1962-05-01         727"
      ]
     },
     "execution_count": 4,
     "metadata": {},
     "output_type": "execute_result"
    }
   ],
   "source": [
    "# convert object dataset into datetime format while loading data itself and indexing\n",
    "\n",
    "data = pd.read_csv('F:\\Skillenable\\Data frames\\monthly_milk_production (1).csv', index_col = 'Date', parse_dates= True)\n",
    "data.head()"
   ]
  },
  {
   "cell_type": "code",
   "execution_count": 5,
   "id": "77671ec8",
   "metadata": {},
   "outputs": [
    {
     "data": {
      "text/plain": [
       "(168, 1)"
      ]
     },
     "execution_count": 5,
     "metadata": {},
     "output_type": "execute_result"
    }
   ],
   "source": [
    "data.shape"
   ]
  },
  {
   "cell_type": "code",
   "execution_count": 6,
   "id": "666067ae",
   "metadata": {},
   "outputs": [
    {
     "data": {
      "text/plain": [
       "<AxesSubplot:xlabel='Date'>"
      ]
     },
     "execution_count": 6,
     "metadata": {},
     "output_type": "execute_result"
    },
    {
     "data": {
      "image/png": "[encoded data removed]",
      "text/plain": [
       "<Figure size 576x432 with 1 Axes>"
      ]
     },
     "metadata": {
      "needs_background": "light"
     },
     "output_type": "display_data"
    }
   ],
   "source": [
    "data.plot(figsize= (8,6))   # plotting the data"
   ]
  },
  {
   "cell_type": "code",
   "execution_count": 7,
   "id": "76f03217",
   "metadata": {},
   "outputs": [
    {
     "data": {
      "text/plain": [
       "156"
      ]
     },
     "execution_count": 7,
     "metadata": {},
     "output_type": "execute_result"
    }
   ],
   "source": [
    "# saperate the data as train and test\n",
    "len(data)-12  # taking last 12 data as test data"
   ]
  },
  {
   "cell_type": "code",
   "execution_count": 8,
   "id": "4667f1b4",
   "metadata": {},
   "outputs": [],
   "source": [
    "train = data.iloc[:156]\n",
    "test = data.iloc[156:]"
   ]
  },
  {
   "cell_type": "code",
   "execution_count": 9,
   "id": "93122530",
   "metadata": {},
   "outputs": [
    {
     "data": {
      "text/plain": [
       "(156, 12)"
      ]
     },
     "execution_count": 9,
     "metadata": {},
     "output_type": "execute_result"
    }
   ],
   "source": [
    "len(train), len(test)"
   ]
  },
  {
   "cell_type": "code",
   "execution_count": 10,
   "id": "7164d861",
   "metadata": {},
   "outputs": [],
   "source": [
    "# NOrmalizing the data\n",
    "from sklearn.preprocessing import MinMaxScaler"
   ]
  },
  {
   "cell_type": "code",
   "execution_count": 11,
   "id": "a5a9115f",
   "metadata": {},
   "outputs": [],
   "source": [
    "scaler = MinMaxScaler()  # assigning the object"
   ]
  },
  {
   "cell_type": "code",
   "execution_count": 12,
   "id": "773e72c5",
   "metadata": {},
   "outputs": [],
   "source": [
    "train_scale = scaler.fit_transform(train) # scaled the data\n",
    "test_scale = scaler.fit_transform(test)"
   ]
  },
  {
   "cell_type": "code",
   "execution_count": 13,
   "id": "4c68f663",
   "metadata": {},
   "outputs": [
    {
     "data": {
      "text/plain": [
       "array([[0.2826087 ],\n",
       "       [0.        ],\n",
       "       [0.59782609],\n",
       "       [0.6576087 ],\n",
       "       [1.        ],\n",
       "       [0.8423913 ],\n",
       "       [0.61956522],\n",
       "       [0.41304348],\n",
       "       [0.19021739],\n",
       "       [0.24456522],\n",
       "       [0.08152174],\n",
       "       [0.33152174]])"
      ]
     },
     "execution_count": 13,
     "metadata": {},
     "output_type": "execute_result"
    }
   ],
   "source": [
    "test_scale"
   ]
  },
  {
   "cell_type": "code",
   "execution_count": 14,
   "id": "5954596e",
   "metadata": {},
   "outputs": [],
   "source": [
    "# \n",
    "from keras.preprocessing.sequence import TimeseriesGenerator\n"
   ]
  },
  {
   "cell_type": "code",
   "execution_count": 19,
   "id": "2f615d3c",
   "metadata": {},
   "outputs": [],
   "source": [
    "# We will take 12 values to predict the time series data \n",
    "\n",
    "n_input =12\n",
    "generator = TimeseriesGenerator(train_scale, train_scale, length = n_input, batch_size = 1)"
   ]
  },
  {
   "cell_type": "code",
   "execution_count": 25,
   "id": "cfabc5a2",
   "metadata": {},
   "outputs": [
    {
     "data": {
      "text/plain": [
       "array([[0.08653846],\n",
       "       [0.01923077],\n",
       "       [0.20913462],\n",
       "       [0.24759615],\n",
       "       [0.41826923],\n",
       "       [0.34615385],\n",
       "       [0.20913462],\n",
       "       [0.11057692],\n",
       "       [0.03605769],\n",
       "       [0.05769231],\n",
       "       [0.        ],\n",
       "       [0.06971154]])"
      ]
     },
     "execution_count": 25,
     "metadata": {},
     "output_type": "execute_result"
    }
   ],
   "source": [
    "train_scale[:12]"
   ]
  },
  {
   "cell_type": "code",
   "execution_count": 28,
   "id": "5f2c3e40",
   "metadata": {
    "scrolled": true
   },
   "outputs": [
    {
     "data": {
      "text/plain": [
       "(array([[[0.08653846],\n",
       "         [0.01923077],\n",
       "         [0.20913462],\n",
       "         [0.24759615],\n",
       "         [0.41826923],\n",
       "         [0.34615385],\n",
       "         [0.20913462],\n",
       "         [0.11057692],\n",
       "         [0.03605769],\n",
       "         [0.05769231],\n",
       "         [0.        ],\n",
       "         [0.06971154]]]),\n",
       " array([[0.11298077]]))"
      ]
     },
     "execution_count": 28,
     "metadata": {},
     "output_type": "execute_result"
    }
   ],
   "source": [
    "generator[0]    #IT'S OUR FIRST GENERATOR OF FIRST INDEX; give first 12 data"
   ]
  },
  {
   "cell_type": "code",
   "execution_count": 29,
   "id": "d791cdc2",
   "metadata": {},
   "outputs": [],
   "source": [
    " # import all the packages which we are going to use\n",
    "    \n",
    "from keras.models import Sequential\n",
    "from keras.layers import Dense\n",
    "from keras.layers import LSTM"
   ]
  },
  {
   "cell_type": "markdown",
   "id": "8eaee05f",
   "metadata": {},
   "source": [
    "## Initializing the RNN"
   ]
  },
  {
   "cell_type": "code",
   "execution_count": 30,
   "id": "1c0249c1",
   "metadata": {},
   "outputs": [],
   "source": [
    "# Defining the model\n",
    "\n",
    "rnn = Sequential()"
   ]
  },
  {
   "cell_type": "markdown",
   "id": "068c5273",
   "metadata": {},
   "source": [
    "## Adding input & hidden layers\n"
   ]
  },
  {
   "cell_type": "code",
   "execution_count": 32,
   "id": "48e363c7",
   "metadata": {},
   "outputs": [],
   "source": [
    "rnn.add(LSTM(units=100, activation = 'relu', input_shape= (n_input, 1)))"
   ]
  },
  {
   "cell_type": "markdown",
   "id": "8cc7c938",
   "metadata": {},
   "source": [
    "## output layer"
   ]
  },
  {
   "cell_type": "code",
   "execution_count": 34,
   "id": "e3aa54ec",
   "metadata": {},
   "outputs": [],
   "source": [
    "rnn.add(Dense(units=1)) ## output = 1"
   ]
  },
  {
   "cell_type": "markdown",
   "id": "8a718957",
   "metadata": {},
   "source": [
    "## Compiling the model"
   ]
  },
  {
   "cell_type": "code",
   "execution_count": 35,
   "id": "d37f817c",
   "metadata": {},
   "outputs": [],
   "source": [
    "rnn.compile(optimizer= 'adam', loss='mse')"
   ]
  },
  {
   "cell_type": "markdown",
   "id": "bc4c8f10",
   "metadata": {},
   "source": [
    "## Fitting the model\n"
   ]
  },
  {
   "cell_type": "code",
   "execution_count": 36,
   "id": "7349cc23",
   "metadata": {},
   "outputs": [
    {
     "name": "stdout",
     "output_type": "stream",
     "text": [
      "Epoch 1/50\n",
      "144/144 [==============================] - 4s 9ms/step - loss: 0.0467\n",
      "Epoch 2/50\n",
      "144/144 [==============================] - 1s 10ms/step - loss: 0.0216\n",
      "Epoch 3/50\n",
      "144/144 [==============================] - 1s 10ms/step - loss: 0.0185\n",
      "Epoch 4/50\n",
      "144/144 [==============================] - 1s 9ms/step - loss: 0.0142\n",
      "Epoch 5/50\n",
      "144/144 [==============================] - 1s 10ms/step - loss: 0.0078\n",
      "Epoch 6/50\n",
      "144/144 [==============================] - 1s 10ms/step - loss: 0.0072\n",
      "Epoch 7/50\n",
      "144/144 [==============================] - 1s 10ms/step - loss: 0.0077\n",
      "Epoch 8/50\n",
      "144/144 [==============================] - 1s 9ms/step - loss: 0.0052\n",
      "Epoch 9/50\n",
      "144/144 [==============================] - 1s 9ms/step - loss: 0.0048\n",
      "Epoch 10/50\n",
      "144/144 [==============================] - 1s 9ms/step - loss: 0.0057\n",
      "Epoch 11/50\n",
      "144/144 [==============================] - 1s 10ms/step - loss: 0.0052\n",
      "Epoch 12/50\n",
      "144/144 [==============================] - 1s 10ms/step - loss: 0.0048\n",
      "Epoch 13/50\n",
      "144/144 [==============================] - 1s 9ms/step - loss: 0.0053\n",
      "Epoch 14/50\n",
      "144/144 [==============================] - 1s 10ms/step - loss: 0.0069\n",
      "Epoch 15/50\n",
      "144/144 [==============================] - 1s 10ms/step - loss: 0.0051\n",
      "Epoch 16/50\n",
      "144/144 [==============================] - 1s 9ms/step - loss: 0.0053\n",
      "Epoch 17/50\n",
      "144/144 [==============================] - 1s 9ms/step - loss: 0.0054\n",
      "Epoch 18/50\n",
      "144/144 [==============================] - 1s 9ms/step - loss: 0.0046\n",
      "Epoch 19/50\n",
      "144/144 [==============================] - 1s 10ms/step - loss: 0.0033\n",
      "Epoch 20/50\n",
      "144/144 [==============================] - 1s 10ms/step - loss: 0.0037\n",
      "Epoch 21/50\n",
      "144/144 [==============================] - 1s 10ms/step - loss: 0.0035\n",
      "Epoch 22/50\n",
      "144/144 [==============================] - 1s 9ms/step - loss: 0.0036\n",
      "Epoch 23/50\n",
      "144/144 [==============================] - 1s 10ms/step - loss: 0.0030\n",
      "Epoch 24/50\n",
      "144/144 [==============================] - 1s 10ms/step - loss: 0.0035\n",
      "Epoch 25/50\n",
      "144/144 [==============================] - 1s 10ms/step - loss: 0.0033\n",
      "Epoch 26/50\n",
      "144/144 [==============================] - 1s 10ms/step - loss: 0.0028\n",
      "Epoch 27/50\n",
      "144/144 [==============================] - 1s 9ms/step - loss: 0.0036\n",
      "Epoch 28/50\n",
      "144/144 [==============================] - 1s 10ms/step - loss: 0.0027\n",
      "Epoch 29/50\n",
      "144/144 [==============================] - 1s 9ms/step - loss: 0.0028\n",
      "Epoch 30/50\n",
      "144/144 [==============================] - 1s 9ms/step - loss: 0.0027\n",
      "Epoch 31/50\n",
      "144/144 [==============================] - 1s 10ms/step - loss: 0.0027\n",
      "Epoch 32/50\n",
      "144/144 [==============================] - 1s 9ms/step - loss: 0.0035\n",
      "Epoch 33/50\n",
      "144/144 [==============================] - 1s 9ms/step - loss: 0.0035\n",
      "Epoch 34/50\n",
      "144/144 [==============================] - 1s 9ms/step - loss: 0.0028\n",
      "Epoch 35/50\n",
      "144/144 [==============================] - 1s 9ms/step - loss: 0.0029\n",
      "Epoch 36/50\n",
      "144/144 [==============================] - 1s 9ms/step - loss: 0.0030\n",
      "Epoch 37/50\n",
      "144/144 [==============================] - 1s 10ms/step - loss: 0.0027\n",
      "Epoch 38/50\n",
      "144/144 [==============================] - 1s 9ms/step - loss: 0.0026\n",
      "Epoch 39/50\n",
      "144/144 [==============================] - 1s 9ms/step - loss: 0.0026\n",
      "Epoch 40/50\n",
      "144/144 [==============================] - 2s 10ms/step - loss: 0.0026\n",
      "Epoch 41/50\n",
      "144/144 [==============================] - 1s 9ms/step - loss: 0.0025\n",
      "Epoch 42/50\n",
      "144/144 [==============================] - 1s 10ms/step - loss: 0.0028\n",
      "Epoch 43/50\n",
      "144/144 [==============================] - 1s 9ms/step - loss: 0.0027\n",
      "Epoch 44/50\n",
      "144/144 [==============================] - 1s 10ms/step - loss: 0.0027\n",
      "Epoch 45/50\n",
      "144/144 [==============================] - 1s 10ms/step - loss: 0.0023\n",
      "Epoch 46/50\n",
      "144/144 [==============================] - 1s 10ms/step - loss: 0.0022\n",
      "Epoch 47/50\n",
      "144/144 [==============================] - 1s 9ms/step - loss: 0.0020\n",
      "Epoch 48/50\n",
      "144/144 [==============================] - 1s 9ms/step - loss: 0.0023\n",
      "Epoch 49/50\n",
      "144/144 [==============================] - 1s 9ms/step - loss: 0.0022\n",
      "Epoch 50/50\n",
      "144/144 [==============================] - 1s 9ms/step - loss: 0.0026\n"
     ]
    },
    {
     "data": {
      "text/plain": [
       "<keras.callbacks.History at 0x20eff89fd30>"
      ]
     },
     "execution_count": 36,
     "metadata": {},
     "output_type": "execute_result"
    }
   ],
   "source": [
    "rnn.fit(generator, epochs=50)"
   ]
  },
  {
   "cell_type": "code",
   "execution_count": 37,
   "id": "4077634c",
   "metadata": {},
   "outputs": [
    {
     "data": {
      "text/plain": [
       "array([[0.2826087 ],\n",
       "       [0.        ],\n",
       "       [0.59782609],\n",
       "       [0.6576087 ],\n",
       "       [1.        ],\n",
       "       [0.8423913 ],\n",
       "       [0.61956522],\n",
       "       [0.41304348],\n",
       "       [0.19021739],\n",
       "       [0.24456522],\n",
       "       [0.08152174],\n",
       "       [0.33152174]])"
      ]
     },
     "execution_count": 37,
     "metadata": {},
     "output_type": "execute_result"
    }
   ],
   "source": [
    "test_scale"
   ]
  },
  {
   "cell_type": "code",
   "execution_count": 41,
   "id": "62d5b988",
   "metadata": {},
   "outputs": [],
   "source": [
    "predict_train = train_scale[-12:]  #last 12 val"
   ]
  },
  {
   "cell_type": "code",
   "execution_count": 42,
   "id": "748f789a",
   "metadata": {},
   "outputs": [],
   "source": [
    "predict_train = predict_train.reshape(1,n_input,1)"
   ]
  },
  {
   "cell_type": "code",
   "execution_count": 43,
   "id": "5d754e6a",
   "metadata": {},
   "outputs": [
    {
     "data": {
      "text/plain": [
       "(1, 12, 1)"
      ]
     },
     "execution_count": 43,
     "metadata": {},
     "output_type": "execute_result"
    }
   ],
   "source": [
    "predict_train.shape   #3d data"
   ]
  },
  {
   "cell_type": "code",
   "execution_count": 39,
   "id": "217eaaad",
   "metadata": {
    "scrolled": true
   },
   "outputs": [
    {
     "name": "stdout",
     "output_type": "stream",
     "text": [
      "WARNING:tensorflow:Model was constructed with shape (None, 12, 1) for input KerasTensor(type_spec=TensorSpec(shape=(None, 12, 1), dtype=tf.float32, name='lstm_input'), name='lstm_input', description=\"created by layer 'lstm_input'\"), but it was called on an input with incompatible shape (None, 1, 1).\n"
     ]
    },
    {
     "data": {
      "text/plain": [
       "array([[0.060408  ],\n",
       "       [0.04888118],\n",
       "       [0.074807  ],\n",
       "       [0.07793832],\n",
       "       [0.09435412],\n",
       "       [0.08891698],\n",
       "       [0.079391  ],\n",
       "       [0.06957249],\n",
       "       [0.05738595],\n",
       "       [0.05669088],\n",
       "       [0.04774287],\n",
       "       [0.05692247]], dtype=float32)"
      ]
     },
     "execution_count": 39,
     "metadata": {},
     "output_type": "execute_result"
    }
   ],
   "source": [
    "rnn.predict(train_scale[-12:])"
   ]
  },
  {
   "cell_type": "code",
   "execution_count": 45,
   "id": "bb26d4a1",
   "metadata": {},
   "outputs": [
    {
     "data": {
      "text/plain": [
       "array([[0.63923174]], dtype=float32)"
      ]
     },
     "execution_count": 45,
     "metadata": {},
     "output_type": "execute_result"
    }
   ],
   "source": [
    "rnn.predict(predict_train)  # prediction of first data after scaling"
   ]
  },
  {
   "cell_type": "code",
   "execution_count": 47,
   "id": "65d8fb50",
   "metadata": {},
   "outputs": [
    {
     "data": {
      "text/plain": [
       "array([0.2826087])"
      ]
     },
     "execution_count": 47,
     "metadata": {},
     "output_type": "execute_result"
    }
   ],
   "source": [
    "test_scale[0]   #here we can see the difference in predicted and real value"
   ]
  },
  {
   "cell_type": "code",
   "execution_count": null,
   "id": "af82295b",
   "metadata": {},
   "outputs": [],
   "source": []
  }
 ],
 "metadata": {
  "kernelspec": {
   "display_name": "Python 3 (ipykernel)",
   "language": "python",
   "name": "python3"
  },
  "language_info": {
   "codemirror_mode": {
    "name": "ipython",
    "version": 3
   },
   "file_extension": ".py",
   "mimetype": "text/x-python",
   "name": "python",
   "nbconvert_exporter": "python",
   "pygments_lexer": "ipython3",
   "version": "3.9.7"
  }
 },
 "nbformat": 4,
 "nbformat_minor": 5
}
